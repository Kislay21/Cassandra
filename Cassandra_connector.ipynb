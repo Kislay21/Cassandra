{
 "cells": [
  {
   "cell_type": "code",
   "execution_count": 1,
   "metadata": {},
   "outputs": [
    {
     "name": "stdout",
     "output_type": "stream",
     "text": [
      "3.25.0\n"
     ]
    }
   ],
   "source": [
    "import cassandra\n",
    "print(cassandra.__version__)"
   ]
  },
  {
   "cell_type": "code",
   "execution_count": 2,
   "metadata": {},
   "outputs": [
    {
     "name": "stdout",
     "output_type": "stream",
     "text": [
      "4.0.0.6816\n"
     ]
    }
   ],
   "source": [
    "from cassandra.cluster import Cluster\n",
    "from cassandra.auth import PlainTextAuthProvider\n",
    "\n",
    "cloud_config= {\n",
    "         'secure_connect_bundle': 'secure-connect-cassandra-demo.zip'\n",
    "}\n",
    "auth_provider = PlainTextAuthProvider('xGMupcwTTjetBBzJwIzlNQzN', 'yThMjMRheqiZJv3SKUv9KAuYoRJt8sq,DhvOmuixH83+0Tq3dbf_L.I7SMxh0RZwLa2F3+CC74+80a5QO_.F7alGKX.XD-4vfb3dFeiOoF4E.tEXGE69HjhtEJDDjGkN')\n",
    "cluster = Cluster(cloud=cloud_config, auth_provider=auth_provider)\n",
    "session = cluster.connect()\n",
    "\n",
    "result = session.execute(\"select release_version from system.local\")\n",
    "\n",
    "row = result.one()\n",
    "\n",
    "# print(row)\n",
    "if row:\n",
    "      print(row[0])\n",
    "else:\n",
    "      print(\"An error occurred.\")"
   ]
  },
  {
   "cell_type": "code",
   "execution_count": 3,
   "metadata": {},
   "outputs": [
    {
     "name": "stdout",
     "output_type": "stream",
     "text": [
      "Exception Occured while creating Keyspace :  Error from server: code=2100 [Unauthorized] message=\"Missing correct permission on employee_management.: Keyspace management is currently only supported at https://astra.datastax.com/org/09b36963-6775-49d6-ae15-60a28eff5dc8/database/c5620d33-c28a-456d-8c8d-540b9f1d2177\"\n"
     ]
    }
   ],
   "source": [
    "# Command to create keyspace in Cassandra\n",
    "try:\n",
    "    query = \"create keyspace employee_management with replication = {'class' : 'SimpleStrategy', 'replication_factor' : 3}\"\n",
    "    session.execute(query)\n",
    "    print(\"Keyspace Created Successfully !!\")\n",
    "except Exception as err:\n",
    "    print(\"Exception Occured while creating Keyspace : \",err)"
   ]
  },
  {
   "cell_type": "code",
   "execution_count": 4,
   "metadata": {},
   "outputs": [
    {
     "name": "stdout",
     "output_type": "stream",
     "text": [
      "Inside the keyspace\n"
     ]
    }
   ],
   "source": [
    "# Command to use a keyspace\n",
    "try:\n",
    "    query = \"use test_keyspace\"\n",
    "    session.execute(query)\n",
    "    print(\"Inside the keyspace\")\n",
    "except Exception as err:\n",
    "    print(\"Exception Occured while using Keyspace : \",err)"
   ]
  },
  {
   "cell_type": "code",
   "execution_count": 5,
   "metadata": {},
   "outputs": [
    {
     "name": "stdout",
     "output_type": "stream",
     "text": [
      "Exception Occured while creating the table :  Table 'test_keyspace.employee' already exists\n"
     ]
    }
   ],
   "source": [
    "# Command to create a table inside a Keyspace\n",
    "try:\n",
    "    query = \"\"\"create table employee(\n",
    "                emp_id int,\n",
    "                emp_name varchar,\n",
    "                emp_salary int,\n",
    "                emp_dept varchar,\n",
    "                emp_email varchar,\n",
    "                emp_phone varchar,\n",
    "                primary key (emp_id, emp_dept)\n",
    "              )\n",
    "            \"\"\"\n",
    "    session.execute(query)\n",
    "    print(\"Table created inside the keyspace\")\n",
    "except Exception as err:\n",
    "    print(\"Exception Occured while creating the table : \",err)"
   ]
  },
  {
   "cell_type": "code",
   "execution_count": 6,
   "metadata": {},
   "outputs": [
    {
     "name": "stdout",
     "output_type": "stream",
     "text": [
      "Column dropped successfully !!\n"
     ]
    }
   ],
   "source": [
    "# Alter the table in cassandra to drop a column\n",
    "try:\n",
    "    query = \"alter table employee drop emp_email\"\n",
    "    session.execute(query)\n",
    "    print(\"Column dropped successfully !!\")\n",
    "except Exception as err:\n",
    "    print(\"Exception Occured while dropping the column: \",err)"
   ]
  },
  {
   "cell_type": "code",
   "execution_count": 7,
   "metadata": {},
   "outputs": [
    {
     "name": "stdout",
     "output_type": "stream",
     "text": [
      "Column added successfully !!\n"
     ]
    }
   ],
   "source": [
    "# Alter the table in cassandra to add a new column\n",
    "try:\n",
    "    query = \"alter table employee add emp_email text\"\n",
    "    session.execute(query)\n",
    "    print(\"Column added successfully !!\")\n",
    "except Exception as err:\n",
    "    print(\"Exception Occured while adding the column: \",err)"
   ]
  },
  {
   "cell_type": "code",
   "execution_count": 8,
   "metadata": {},
   "outputs": [
    {
     "name": "stdout",
     "output_type": "stream",
     "text": [
      "Record inserted successfully !!\n"
     ]
    }
   ],
   "source": [
    "# Insert data into cassandra table\n",
    "try:\n",
    "    query = \"insert into employee(emp_id, emp_name, emp_salary, emp_dept, emp_email, emp_phone) values(1, 'Shashank', 10000, 'Software', 'abc.gmail.com','+91 768467474')\"\n",
    "    session.execute(query)\n",
    "    print(\"Record inserted successfully !!\")\n",
    "except Exception as err:\n",
    "    print(\"Exception Occured while inserting the data into table: \",err)"
   ]
  },
  {
   "cell_type": "code",
   "execution_count": 9,
   "metadata": {},
   "outputs": [
    {
     "name": "stdout",
     "output_type": "stream",
     "text": [
      "Record inserted successfully !! \n",
      "Record inserted successfully !! \n",
      "Record inserted successfully !! \n"
     ]
    }
   ],
   "source": [
    "#Inserting multiple rows in the table\n",
    "query = \"insert into employee(emp_id, emp_name, emp_salary, emp_dept, emp_email, emp_phone)\"\n",
    "query = query + \"Values(%s, %s, %s, %s, %s, %s)\"\n",
    "\n",
    "try:\n",
    "    session.execute(query, (2, 'Rahul', 20000, 'IT', 'xyx.gmail.com','+91 908467474'))\n",
    "    print(\"Record inserted successfully !! \")\n",
    "except Exception as err:\n",
    "    print(\"Exception Occured while inserting the data into table: \",err)\n",
    "    \n",
    "try:\n",
    "    session.execute(query, (3, 'Sunny', 22000, 'HR', 'klm.gmail.com','+91 800067474'))\n",
    "    print(\"Record inserted successfully !! \")\n",
    "except Exception as err:\n",
    "    print(\"Exception Occured while inserting the data into table: \",err)\n",
    "    \n",
    "try:\n",
    "    session.execute(query, (4, 'Vishal', 30000, 'Software', 'mno.gmail.com','+91 600467474'))\n",
    "    print(\"Record inserted successfully !! \")\n",
    "except Exception as err:\n",
    "    print(\"Exception Occured while inserting the data into table: \",err)"
   ]
  },
  {
   "cell_type": "code",
   "execution_count": 10,
   "metadata": {},
   "outputs": [
    {
     "name": "stdout",
     "output_type": "stream",
     "text": [
      "Row(emp_id=1, emp_dept='Software', emp_email='abc.gmail.com', emp_name='Shashank', emp_phone='+91 768467474', emp_salary=10000)\n",
      "Row(emp_id=2, emp_dept='IT', emp_email='xyx.gmail.com', emp_name='Rahul', emp_phone='+91 908467474', emp_salary=20000)\n",
      "Row(emp_id=4, emp_dept='Software', emp_email='mno.gmail.com', emp_name='Vishal', emp_phone='+91 600467474', emp_salary=30000)\n",
      "Row(emp_id=3, emp_dept='HR', emp_email='klm.gmail.com', emp_name='Sunny', emp_phone='+91 800067474', emp_salary=22000)\n"
     ]
    }
   ],
   "source": [
    "# Select query on cassandra table\n",
    "try:\n",
    "    query = \"select * from employee\"\n",
    "    result = session.execute(query)\n",
    "    for row in result:\n",
    "        print(row)\n",
    "except Exception as err:\n",
    "    print(\"Exception Occured while selecting the data from table: \",err)"
   ]
  },
  {
   "cell_type": "code",
   "execution_count": 11,
   "metadata": {},
   "outputs": [
    {
     "name": "stdout",
     "output_type": "stream",
     "text": [
      "Row(emp_id=1, emp_name='Shashank')\n",
      "Row(emp_id=2, emp_name='Rahul')\n",
      "Row(emp_id=4, emp_name='Vishal')\n",
      "Row(emp_id=3, emp_name='Sunny')\n"
     ]
    }
   ],
   "source": [
    "# Select query for specific columns in cassandra table\n",
    "try:\n",
    "    query = \"select emp_id, emp_name from employee\"\n",
    "    result = session.execute(query)\n",
    "    for row in result:\n",
    "        print(row)\n",
    "except Exception as err:\n",
    "    print(\"Exception Occured while selecting the data from table: \",err)"
   ]
  },
  {
   "cell_type": "code",
   "execution_count": 12,
   "metadata": {},
   "outputs": [
    {
     "name": "stdout",
     "output_type": "stream",
     "text": [
      "Emp ID :  1\n",
      "Emp Name :  Shashank\n",
      "Emp ID :  2\n",
      "Emp Name :  Rahul\n",
      "Emp ID :  4\n",
      "Emp Name :  Vishal\n",
      "Emp ID :  3\n",
      "Emp Name :  Sunny\n"
     ]
    }
   ],
   "source": [
    "# Select query for specific columns in cassandra table and how to access from Row object\n",
    "try:\n",
    "    query = \"select emp_id, emp_name from employee\"\n",
    "    result = session.execute(query)\n",
    "    # option 1\n",
    "    for row in result:\n",
    "        print(\"Emp ID : \", row[0])\n",
    "        print(\"Emp Name : \", row[1])\n",
    "except Exception as err:\n",
    "    print(\"Exception Occured while selecting the data from table: \",err)"
   ]
  },
  {
   "cell_type": "code",
   "execution_count": 13,
   "metadata": {},
   "outputs": [
    {
     "name": "stdout",
     "output_type": "stream",
     "text": [
      "Row(count=4)\n",
      "4\n"
     ]
    }
   ],
   "source": [
    "# Write a query to get total count of employees\n",
    "try:\n",
    "    query = \"select count(*) from employee\"\n",
    "    result = session.execute(query)\n",
    "    row = result.one()\n",
    "    print(row)\n",
    "    print(row[0])\n",
    "except Exception as err:\n",
    "    print(\"Exception Occured while selecting the data from table: \",err)"
   ]
  },
  {
   "cell_type": "code",
   "execution_count": 14,
   "metadata": {},
   "outputs": [
    {
     "name": "stdout",
     "output_type": "stream",
     "text": [
      "Row(system_max_emp_salary=30000)\n",
      "30000\n"
     ]
    }
   ],
   "source": [
    "# Write a query to find maximum salary from employee table\n",
    "try:\n",
    "    query = \"select max(emp_salary) from employee\"\n",
    "    result = session.execute(query)\n",
    "    row = result.one()\n",
    "    print(row)\n",
    "    print(row[0])\n",
    "except Exception as err:\n",
    "    print(\"Exception Occured while selecting the data from table: \",err)"
   ]
  },
  {
   "cell_type": "markdown",
   "metadata": {},
   "source": [
    "# WHERE CLAUSE IN CASSANDRA"
   ]
  },
  {
   "cell_type": "code",
   "execution_count": 18,
   "metadata": {},
   "outputs": [
    {
     "name": "stdout",
     "output_type": "stream",
     "text": [
      "Exception Occured while selecting the data from table:\n",
      " Error from server: code=2200 [Invalid query] message=\"Cannot execute this query as it might involve data filtering and thus may have unpredictable performance. If you want to execute this query despite the performance unpredictability, use ALLOW FILTERING\"\n"
     ]
    }
   ],
   "source": [
    "# Write a query to filter data from cassandra table or how to use where clause\n",
    "try:\n",
    "    query = \"select * from employee where emp_name='Shashank'\"\n",
    "    result = session.execute(query)\n",
    "    row = result.one()\n",
    "    print(row)\n",
    "except Exception as err:\n",
    "    print(\"Exception Occured while selecting the data from table:\\n\", err)"
   ]
  },
  {
   "cell_type": "markdown",
   "metadata": {},
   "source": [
    "## Rules for where clause - It can be used effectively with high performance for given below type of columns\n",
    "## 1.) Partition Key (Single or Composite)\n",
    "                   OR\n",
    "## 2.) if Cluster column  used in where clause then it should be with Partition Key\n",
    "                   OR\n",
    "## 3.) A column on which we have applied the index\n",
    "                   OR\n",
    "## 4.) A column which is not part of partition key or index column or clustering column then we can use where clause but we have to use keyword ALLOW FILTERING - it will be a super slow performance when data volume is very high"
   ]
  },
  {
   "cell_type": "code",
   "execution_count": 19,
   "metadata": {},
   "outputs": [
    {
     "name": "stdout",
     "output_type": "stream",
     "text": [
      "Row(emp_id=1, emp_dept='Software', emp_email='abc.gmail.com', emp_name='Shashank', emp_phone='+91 768467474', emp_salary=10000)\n"
     ]
    }
   ],
   "source": [
    "#Correct approach to use where clause for rule no 4\n",
    "try:\n",
    "    query = \"select * from employee where emp_name='Shashank' ALLOW FILTERING\"\n",
    "    result = session.execute(query)\n",
    "    row = result.one()\n",
    "    print(row)\n",
    "except Exception as err:\n",
    "    print(\"Exception Occured while selecting the data from table:\\n\", err)"
   ]
  },
  {
   "cell_type": "code",
   "execution_count": 20,
   "metadata": {},
   "outputs": [
    {
     "name": "stdout",
     "output_type": "stream",
     "text": [
      "Row(emp_id=2, emp_dept='IT', emp_email='xyx.gmail.com', emp_name='Rahul', emp_phone='+91 908467474', emp_salary=20000)\n"
     ]
    }
   ],
   "source": [
    "# where clause for Partition key only or Rule no 1\n",
    "\n",
    "try:\n",
    "    query = \"select * from employee where emp_id=2\"\n",
    "    result = session.execute(query)\n",
    "    row = result.one()\n",
    "    print(row)\n",
    "except Exception as err:\n",
    "    print(\"Exception Occured while selecting the data from table: \",err)"
   ]
  },
  {
   "cell_type": "code",
   "execution_count": 21,
   "metadata": {},
   "outputs": [
    {
     "name": "stdout",
     "output_type": "stream",
     "text": [
      "Row(emp_id=1, emp_dept='Software', emp_email='abc.gmail.com', emp_name='Shashank', emp_phone='+91 768467474', emp_salary=10000)\n"
     ]
    }
   ],
   "source": [
    "# where clause for Clustering key only or Rule no 2 \n",
    "\n",
    "try:\n",
    "    query = \"select * from employee where emp_dept='Software' and emp_id=1\"\n",
    "    result = session.execute(query)\n",
    "    row = result.one()\n",
    "    print(row)\n",
    "except Exception as err:\n",
    "    print(\"Exception Occured while selecting the data from table: \",err)"
   ]
  },
  {
   "cell_type": "markdown",
   "metadata": {},
   "source": [
    "# GROUP BY CLAUSE IN CASSANDRA"
   ]
  },
  {
   "cell_type": "markdown",
   "metadata": {},
   "source": [
    "## Allowed for all columns which are part of Primary Key\n",
    "## Follow given below rules\n",
    "## Rule - 1 : Use only partition key in the group by\n",
    "              OR\n",
    "## Rule - 2 : if Cluster key column is used then follow the actual declared sequence in the primary key"
   ]
  },
  {
   "cell_type": "code",
   "execution_count": 22,
   "metadata": {},
   "outputs": [
    {
     "name": "stdout",
     "output_type": "stream",
     "text": [
      "Row(emp_id=1, sum_salary=10000)\n"
     ]
    }
   ],
   "source": [
    "#Group by approach for rule 1\n",
    "try:\n",
    "    query = \"select emp_id, sum(emp_salary) as sum_salary from employee group by emp_id\"\n",
    "    result = session.execute(query)\n",
    "    row = result.one()\n",
    "    print(row)\n",
    "except Exception as err:\n",
    "    print(\"Exception Occured while selecting the data from table: \",err)"
   ]
  },
  {
   "cell_type": "code",
   "execution_count": null,
   "metadata": {},
   "outputs": [],
   "source": [
    "#Group by approach for rule 2\n",
    "try:\n",
    "    query = \"select emp_id, emp_dept, sum(emp_salary) as sum_salary from employee group by emp_id, emp_dept\"\n",
    "    result = session.execute(query)\n",
    "    row = result.one()\n",
    "    print(row)\n",
    "except Exception as err:\n",
    "    print(\"Exception Occured while selecting the data from table: \",err)"
   ]
  }
 ],
 "metadata": {
  "kernelspec": {
   "display_name": "Python 3",
   "language": "python",
   "name": "python3"
  },
  "language_info": {
   "codemirror_mode": {
    "name": "ipython",
    "version": 3
   },
   "file_extension": ".py",
   "mimetype": "text/x-python",
   "name": "python",
   "nbconvert_exporter": "python",
   "pygments_lexer": "ipython3",
   "version": "3.8.5"
  }
 },
 "nbformat": 4,
 "nbformat_minor": 4
}
